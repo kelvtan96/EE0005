{
 "cells": [
  {
   "cell_type": "markdown",
   "id": "7503ddaf",
   "metadata": {},
   "source": [
    "# EE0005 Group Project"
   ]
  },
  {
   "cell_type": "code",
   "execution_count": 1,
   "id": "df206a09",
   "metadata": {},
   "outputs": [],
   "source": [
    "import numpy as np\n",
    "import pandas as pd"
   ]
  },
  {
   "cell_type": "code",
   "execution_count": null,
   "id": "cde7928d",
   "metadata": {},
   "outputs": [],
   "source": [
    "heart = pd.read_csv('somedata.csv', header = None)\n",
    "csv_data.head()"
   ]
  }
 ],
 "metadata": {
  "kernelspec": {
   "display_name": "Python 3 (ipykernel)",
   "language": "python",
   "name": "python3"
  },
  "language_info": {
   "codemirror_mode": {
    "name": "ipython",
    "version": 3
   },
   "file_extension": ".py",
   "mimetype": "text/x-python",
   "name": "python",
   "nbconvert_exporter": "python",
   "pygments_lexer": "ipython3",
   "version": "3.9.7"
  }
 },
 "nbformat": 4,
 "nbformat_minor": 5
}
