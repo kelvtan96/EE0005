{
 "cells": [
  {
   "cell_type": "markdown",
   "id": "640dfd5c",
   "metadata": {},
   "source": [
    "# EE0005 Group Project"
   ]
  },
  {
   "cell_type": "code",
   "execution_count": 2,
   "id": "efb7efef",
   "metadata": {},
   "outputs": [],
   "source": [
    "import numpy as np\n",
    "import pandas as pd\n",
    "import seaborn as sb\n",
    "import matplotlib.pyplot as plt\n",
    "import math\n",
    "sb.set()"
   ]
  },
  {
   "cell_type": "markdown",
   "id": "572524ff",
   "metadata": {},
   "source": [
    "\n",
    "    Age | Objective Feature | age | int (days)\n",
    "    Height | Objective Feature | height | int (cm) |\n",
    "    Weight | Objective Feature | weight | float (kg) |\n",
    "    Gender | Objective Feature | gender | categorical code |\n",
    "    Systolic blood pressure | Examination Feature | ap_hi | int |\n",
    "    Diastolic blood pressure | Examination Feature | ap_lo | int |\n",
    "    Cholesterol | Examination Feature | cholesterol | 1: normal, 2: above normal, 3: well above normal |\n",
    "    Glucose | Examination Feature | gluc | 1: normal, 2: above normal, 3: well above normal |\n",
    "    Smoking | Subjective Feature | smoke | binary |\n",
    "    Alcohol intake | Subjective Feature | alco | binary |\n",
    "    Physical activity | Subjective Feature | active | binary |\n",
    "    Presence or absence of cardiovascular disease | Target Variable | cardio | binary |\n"
   ]
  },
  {
   "cell_type": "code",
   "execution_count": 3,
   "id": "44b4ccd7",
   "metadata": {},
   "outputs": [
    {
     "ename": "FileNotFoundError",
     "evalue": "[Errno 2] No such file or directory: 'cardio_train.csv'",
     "output_type": "error",
     "traceback": [
      "\u001b[1;31m---------------------------------------------------------------------------\u001b[0m",
      "\u001b[1;31mFileNotFoundError\u001b[0m                         Traceback (most recent call last)",
      "\u001b[1;32m~\\AppData\\Local\\Temp/ipykernel_23872/498209745.py\u001b[0m in \u001b[0;36m<module>\u001b[1;34m\u001b[0m\n\u001b[1;32m----> 1\u001b[1;33m \u001b[0mheartdata\u001b[0m \u001b[1;33m=\u001b[0m \u001b[0mpd\u001b[0m\u001b[1;33m.\u001b[0m\u001b[0mread_csv\u001b[0m\u001b[1;33m(\u001b[0m\u001b[1;34m'cardio_train.csv'\u001b[0m\u001b[1;33m)\u001b[0m\u001b[1;33m\u001b[0m\u001b[1;33m\u001b[0m\u001b[0m\n\u001b[0m\u001b[0;32m      2\u001b[0m \u001b[0mheartdata\u001b[0m\u001b[1;33m.\u001b[0m\u001b[0mhead\u001b[0m\u001b[1;33m(\u001b[0m\u001b[0mn\u001b[0m \u001b[1;33m=\u001b[0m \u001b[1;36m10000\u001b[0m\u001b[1;33m)\u001b[0m\u001b[1;33m\u001b[0m\u001b[1;33m\u001b[0m\u001b[0m\n",
      "\u001b[1;32m~\\anaconda3\\lib\\site-packages\\pandas\\util\\_decorators.py\u001b[0m in \u001b[0;36mwrapper\u001b[1;34m(*args, **kwargs)\u001b[0m\n\u001b[0;32m    309\u001b[0m                     \u001b[0mstacklevel\u001b[0m\u001b[1;33m=\u001b[0m\u001b[0mstacklevel\u001b[0m\u001b[1;33m,\u001b[0m\u001b[1;33m\u001b[0m\u001b[1;33m\u001b[0m\u001b[0m\n\u001b[0;32m    310\u001b[0m                 )\n\u001b[1;32m--> 311\u001b[1;33m             \u001b[1;32mreturn\u001b[0m \u001b[0mfunc\u001b[0m\u001b[1;33m(\u001b[0m\u001b[1;33m*\u001b[0m\u001b[0margs\u001b[0m\u001b[1;33m,\u001b[0m \u001b[1;33m**\u001b[0m\u001b[0mkwargs\u001b[0m\u001b[1;33m)\u001b[0m\u001b[1;33m\u001b[0m\u001b[1;33m\u001b[0m\u001b[0m\n\u001b[0m\u001b[0;32m    312\u001b[0m \u001b[1;33m\u001b[0m\u001b[0m\n\u001b[0;32m    313\u001b[0m         \u001b[1;32mreturn\u001b[0m \u001b[0mwrapper\u001b[0m\u001b[1;33m\u001b[0m\u001b[1;33m\u001b[0m\u001b[0m\n",
      "\u001b[1;32m~\\anaconda3\\lib\\site-packages\\pandas\\io\\parsers\\readers.py\u001b[0m in \u001b[0;36mread_csv\u001b[1;34m(filepath_or_buffer, sep, delimiter, header, names, index_col, usecols, squeeze, prefix, mangle_dupe_cols, dtype, engine, converters, true_values, false_values, skipinitialspace, skiprows, skipfooter, nrows, na_values, keep_default_na, na_filter, verbose, skip_blank_lines, parse_dates, infer_datetime_format, keep_date_col, date_parser, dayfirst, cache_dates, iterator, chunksize, compression, thousands, decimal, lineterminator, quotechar, quoting, doublequote, escapechar, comment, encoding, encoding_errors, dialect, error_bad_lines, warn_bad_lines, on_bad_lines, delim_whitespace, low_memory, memory_map, float_precision, storage_options)\u001b[0m\n\u001b[0;32m    584\u001b[0m     \u001b[0mkwds\u001b[0m\u001b[1;33m.\u001b[0m\u001b[0mupdate\u001b[0m\u001b[1;33m(\u001b[0m\u001b[0mkwds_defaults\u001b[0m\u001b[1;33m)\u001b[0m\u001b[1;33m\u001b[0m\u001b[1;33m\u001b[0m\u001b[0m\n\u001b[0;32m    585\u001b[0m \u001b[1;33m\u001b[0m\u001b[0m\n\u001b[1;32m--> 586\u001b[1;33m     \u001b[1;32mreturn\u001b[0m \u001b[0m_read\u001b[0m\u001b[1;33m(\u001b[0m\u001b[0mfilepath_or_buffer\u001b[0m\u001b[1;33m,\u001b[0m \u001b[0mkwds\u001b[0m\u001b[1;33m)\u001b[0m\u001b[1;33m\u001b[0m\u001b[1;33m\u001b[0m\u001b[0m\n\u001b[0m\u001b[0;32m    587\u001b[0m \u001b[1;33m\u001b[0m\u001b[0m\n\u001b[0;32m    588\u001b[0m \u001b[1;33m\u001b[0m\u001b[0m\n",
      "\u001b[1;32m~\\anaconda3\\lib\\site-packages\\pandas\\io\\parsers\\readers.py\u001b[0m in \u001b[0;36m_read\u001b[1;34m(filepath_or_buffer, kwds)\u001b[0m\n\u001b[0;32m    480\u001b[0m \u001b[1;33m\u001b[0m\u001b[0m\n\u001b[0;32m    481\u001b[0m     \u001b[1;31m# Create the parser.\u001b[0m\u001b[1;33m\u001b[0m\u001b[1;33m\u001b[0m\u001b[0m\n\u001b[1;32m--> 482\u001b[1;33m     \u001b[0mparser\u001b[0m \u001b[1;33m=\u001b[0m \u001b[0mTextFileReader\u001b[0m\u001b[1;33m(\u001b[0m\u001b[0mfilepath_or_buffer\u001b[0m\u001b[1;33m,\u001b[0m \u001b[1;33m**\u001b[0m\u001b[0mkwds\u001b[0m\u001b[1;33m)\u001b[0m\u001b[1;33m\u001b[0m\u001b[1;33m\u001b[0m\u001b[0m\n\u001b[0m\u001b[0;32m    483\u001b[0m \u001b[1;33m\u001b[0m\u001b[0m\n\u001b[0;32m    484\u001b[0m     \u001b[1;32mif\u001b[0m \u001b[0mchunksize\u001b[0m \u001b[1;32mor\u001b[0m \u001b[0miterator\u001b[0m\u001b[1;33m:\u001b[0m\u001b[1;33m\u001b[0m\u001b[1;33m\u001b[0m\u001b[0m\n",
      "\u001b[1;32m~\\anaconda3\\lib\\site-packages\\pandas\\io\\parsers\\readers.py\u001b[0m in \u001b[0;36m__init__\u001b[1;34m(self, f, engine, **kwds)\u001b[0m\n\u001b[0;32m    809\u001b[0m             \u001b[0mself\u001b[0m\u001b[1;33m.\u001b[0m\u001b[0moptions\u001b[0m\u001b[1;33m[\u001b[0m\u001b[1;34m\"has_index_names\"\u001b[0m\u001b[1;33m]\u001b[0m \u001b[1;33m=\u001b[0m \u001b[0mkwds\u001b[0m\u001b[1;33m[\u001b[0m\u001b[1;34m\"has_index_names\"\u001b[0m\u001b[1;33m]\u001b[0m\u001b[1;33m\u001b[0m\u001b[1;33m\u001b[0m\u001b[0m\n\u001b[0;32m    810\u001b[0m \u001b[1;33m\u001b[0m\u001b[0m\n\u001b[1;32m--> 811\u001b[1;33m         \u001b[0mself\u001b[0m\u001b[1;33m.\u001b[0m\u001b[0m_engine\u001b[0m \u001b[1;33m=\u001b[0m \u001b[0mself\u001b[0m\u001b[1;33m.\u001b[0m\u001b[0m_make_engine\u001b[0m\u001b[1;33m(\u001b[0m\u001b[0mself\u001b[0m\u001b[1;33m.\u001b[0m\u001b[0mengine\u001b[0m\u001b[1;33m)\u001b[0m\u001b[1;33m\u001b[0m\u001b[1;33m\u001b[0m\u001b[0m\n\u001b[0m\u001b[0;32m    812\u001b[0m \u001b[1;33m\u001b[0m\u001b[0m\n\u001b[0;32m    813\u001b[0m     \u001b[1;32mdef\u001b[0m \u001b[0mclose\u001b[0m\u001b[1;33m(\u001b[0m\u001b[0mself\u001b[0m\u001b[1;33m)\u001b[0m\u001b[1;33m:\u001b[0m\u001b[1;33m\u001b[0m\u001b[1;33m\u001b[0m\u001b[0m\n",
      "\u001b[1;32m~\\anaconda3\\lib\\site-packages\\pandas\\io\\parsers\\readers.py\u001b[0m in \u001b[0;36m_make_engine\u001b[1;34m(self, engine)\u001b[0m\n\u001b[0;32m   1038\u001b[0m             )\n\u001b[0;32m   1039\u001b[0m         \u001b[1;31m# error: Too many arguments for \"ParserBase\"\u001b[0m\u001b[1;33m\u001b[0m\u001b[1;33m\u001b[0m\u001b[0m\n\u001b[1;32m-> 1040\u001b[1;33m         \u001b[1;32mreturn\u001b[0m \u001b[0mmapping\u001b[0m\u001b[1;33m[\u001b[0m\u001b[0mengine\u001b[0m\u001b[1;33m]\u001b[0m\u001b[1;33m(\u001b[0m\u001b[0mself\u001b[0m\u001b[1;33m.\u001b[0m\u001b[0mf\u001b[0m\u001b[1;33m,\u001b[0m \u001b[1;33m**\u001b[0m\u001b[0mself\u001b[0m\u001b[1;33m.\u001b[0m\u001b[0moptions\u001b[0m\u001b[1;33m)\u001b[0m  \u001b[1;31m# type: ignore[call-arg]\u001b[0m\u001b[1;33m\u001b[0m\u001b[1;33m\u001b[0m\u001b[0m\n\u001b[0m\u001b[0;32m   1041\u001b[0m \u001b[1;33m\u001b[0m\u001b[0m\n\u001b[0;32m   1042\u001b[0m     \u001b[1;32mdef\u001b[0m \u001b[0m_failover_to_python\u001b[0m\u001b[1;33m(\u001b[0m\u001b[0mself\u001b[0m\u001b[1;33m)\u001b[0m\u001b[1;33m:\u001b[0m\u001b[1;33m\u001b[0m\u001b[1;33m\u001b[0m\u001b[0m\n",
      "\u001b[1;32m~\\anaconda3\\lib\\site-packages\\pandas\\io\\parsers\\c_parser_wrapper.py\u001b[0m in \u001b[0;36m__init__\u001b[1;34m(self, src, **kwds)\u001b[0m\n\u001b[0;32m     49\u001b[0m \u001b[1;33m\u001b[0m\u001b[0m\n\u001b[0;32m     50\u001b[0m         \u001b[1;31m# open handles\u001b[0m\u001b[1;33m\u001b[0m\u001b[1;33m\u001b[0m\u001b[0m\n\u001b[1;32m---> 51\u001b[1;33m         \u001b[0mself\u001b[0m\u001b[1;33m.\u001b[0m\u001b[0m_open_handles\u001b[0m\u001b[1;33m(\u001b[0m\u001b[0msrc\u001b[0m\u001b[1;33m,\u001b[0m \u001b[0mkwds\u001b[0m\u001b[1;33m)\u001b[0m\u001b[1;33m\u001b[0m\u001b[1;33m\u001b[0m\u001b[0m\n\u001b[0m\u001b[0;32m     52\u001b[0m         \u001b[1;32massert\u001b[0m \u001b[0mself\u001b[0m\u001b[1;33m.\u001b[0m\u001b[0mhandles\u001b[0m \u001b[1;32mis\u001b[0m \u001b[1;32mnot\u001b[0m \u001b[1;32mNone\u001b[0m\u001b[1;33m\u001b[0m\u001b[1;33m\u001b[0m\u001b[0m\n\u001b[0;32m     53\u001b[0m \u001b[1;33m\u001b[0m\u001b[0m\n",
      "\u001b[1;32m~\\anaconda3\\lib\\site-packages\\pandas\\io\\parsers\\base_parser.py\u001b[0m in \u001b[0;36m_open_handles\u001b[1;34m(self, src, kwds)\u001b[0m\n\u001b[0;32m    220\u001b[0m         \u001b[0mLet\u001b[0m \u001b[0mthe\u001b[0m \u001b[0mreaders\u001b[0m \u001b[0mopen\u001b[0m \u001b[0mIOHandles\u001b[0m \u001b[0mafter\u001b[0m \u001b[0mthey\u001b[0m \u001b[0mare\u001b[0m \u001b[0mdone\u001b[0m \u001b[1;32mwith\u001b[0m \u001b[0mtheir\u001b[0m \u001b[0mpotential\u001b[0m \u001b[0mraises\u001b[0m\u001b[1;33m.\u001b[0m\u001b[1;33m\u001b[0m\u001b[1;33m\u001b[0m\u001b[0m\n\u001b[0;32m    221\u001b[0m         \"\"\"\n\u001b[1;32m--> 222\u001b[1;33m         self.handles = get_handle(\n\u001b[0m\u001b[0;32m    223\u001b[0m             \u001b[0msrc\u001b[0m\u001b[1;33m,\u001b[0m\u001b[1;33m\u001b[0m\u001b[1;33m\u001b[0m\u001b[0m\n\u001b[0;32m    224\u001b[0m             \u001b[1;34m\"r\"\u001b[0m\u001b[1;33m,\u001b[0m\u001b[1;33m\u001b[0m\u001b[1;33m\u001b[0m\u001b[0m\n",
      "\u001b[1;32m~\\anaconda3\\lib\\site-packages\\pandas\\io\\common.py\u001b[0m in \u001b[0;36mget_handle\u001b[1;34m(path_or_buf, mode, encoding, compression, memory_map, is_text, errors, storage_options)\u001b[0m\n\u001b[0;32m    700\u001b[0m         \u001b[1;32mif\u001b[0m \u001b[0mioargs\u001b[0m\u001b[1;33m.\u001b[0m\u001b[0mencoding\u001b[0m \u001b[1;32mand\u001b[0m \u001b[1;34m\"b\"\u001b[0m \u001b[1;32mnot\u001b[0m \u001b[1;32min\u001b[0m \u001b[0mioargs\u001b[0m\u001b[1;33m.\u001b[0m\u001b[0mmode\u001b[0m\u001b[1;33m:\u001b[0m\u001b[1;33m\u001b[0m\u001b[1;33m\u001b[0m\u001b[0m\n\u001b[0;32m    701\u001b[0m             \u001b[1;31m# Encoding\u001b[0m\u001b[1;33m\u001b[0m\u001b[1;33m\u001b[0m\u001b[0m\n\u001b[1;32m--> 702\u001b[1;33m             handle = open(\n\u001b[0m\u001b[0;32m    703\u001b[0m                 \u001b[0mhandle\u001b[0m\u001b[1;33m,\u001b[0m\u001b[1;33m\u001b[0m\u001b[1;33m\u001b[0m\u001b[0m\n\u001b[0;32m    704\u001b[0m                 \u001b[0mioargs\u001b[0m\u001b[1;33m.\u001b[0m\u001b[0mmode\u001b[0m\u001b[1;33m,\u001b[0m\u001b[1;33m\u001b[0m\u001b[1;33m\u001b[0m\u001b[0m\n",
      "\u001b[1;31mFileNotFoundError\u001b[0m: [Errno 2] No such file or directory: 'cardio_train.csv'"
     ]
    }
   ],
   "source": [
    "heartdata = pd.read_csv('cardio_train.csv')\n",
    "heartdata.head(n = 10000)"
   ]
  },
  {
   "cell_type": "code",
   "execution_count": null,
   "id": "3a83cf53",
   "metadata": {},
   "outputs": [],
   "source": [
    "heartdata.shape"
   ]
  },
  {
   "cell_type": "code",
   "execution_count": null,
   "id": "38f4f3b1",
   "metadata": {},
   "outputs": [],
   "source": [
    "heartdata.dtypes"
   ]
  },
  {
   "cell_type": "code",
   "execution_count": null,
   "id": "c542bbfb",
   "metadata": {},
   "outputs": [],
   "source": [
    "heartdata['years'] = (heartdata['age']/365).round().astype('int')\n",
    "years = pd.DataFrame(heartdata['years'])\n",
    "years.head()"
   ]
  },
  {
   "cell_type": "code",
   "execution_count": null,
   "id": "9ad81d3d",
   "metadata": {},
   "outputs": [],
   "source": [
    "height = pd.DataFrame(heartdata['height'])\n",
    "height.head()"
   ]
  },
  {
   "cell_type": "code",
   "execution_count": null,
   "id": "65b8400f",
   "metadata": {},
   "outputs": [],
   "source": [
    "weight = pd.DataFrame(heartdata['weight'])\n",
    "weight.head()"
   ]
  },
  {
   "cell_type": "code",
   "execution_count": null,
   "id": "1fef7b8e",
   "metadata": {},
   "outputs": [],
   "source": [
    "heartdata['bmi'] = heartdata['weight'] / (heartdata['height']/100)**2\n",
    "bmi = pd.DataFrame(heartdata['bmi'])\n",
    "bmi.head()"
   ]
  },
  {
   "cell_type": "markdown",
   "id": "fa835a99",
   "metadata": {},
   "source": [
    "MAP is Mean Arterial Pressure"
   ]
  },
  {
   "cell_type": "code",
   "execution_count": null,
   "id": "b8336f12",
   "metadata": {},
   "outputs": [],
   "source": [
    "heartdata['MAP'] = ((2 * heartdata['ap_lo'] + heartdata['ap_hi'])/3)\n",
    "MAP = pd.DataFrame(heartdata['MAP'])\n",
    "MAP.head()"
   ]
  },
  {
   "cell_type": "code",
   "execution_count": null,
   "id": "71fa527c",
   "metadata": {},
   "outputs": [],
   "source": [
    "newheartdata = heartdata.drop(columns = ['id', 'age'])"
   ]
  },
  {
   "cell_type": "code",
   "execution_count": null,
   "id": "c23e02be",
   "metadata": {},
   "outputs": [],
   "source": [
    "newheartdata.head()"
   ]
  },
  {
   "cell_type": "code",
   "execution_count": null,
   "id": "d9f26a54",
   "metadata": {},
   "outputs": [],
   "source": [
    "newheartdata.describe()"
   ]
  },
  {
   "cell_type": "code",
   "execution_count": null,
   "id": "6c0be434",
   "metadata": {},
   "outputs": [],
   "source": [
    "male_df = newheartdata[newheartdata['gender'] == 1]\n",
    "male_df"
   ]
  },
  {
   "cell_type": "code",
   "execution_count": null,
   "id": "bb8545bb",
   "metadata": {},
   "outputs": [],
   "source": [
    "male_df.drop(male_df[(male_df['ap_hi'] > male_df['ap_hi'].quantile(0.975)) | (male_df['ap_hi'] < male_df['ap_hi'].quantile(0.025))].index,inplace=True)\n",
    "male_df.drop(male_df[(male_df['ap_lo'] > male_df['ap_lo'].quantile(0.975)) | (male_df['ap_lo'] < male_df['ap_lo'].quantile(0.025))].index,inplace=True)\n",
    "male_df.drop(male_df[(male_df['bmi'] > male_df['bmi'].quantile(0.975)) | (male_df['bmi'] < male_df['bmi'].quantile(0.025))].index,inplace=True)"
   ]
  },
  {
   "cell_type": "code",
   "execution_count": null,
   "id": "4cde685f",
   "metadata": {},
   "outputs": [],
   "source": [
    "male_df.describe()"
   ]
  },
  {
   "cell_type": "markdown",
   "id": "aad166b6",
   "metadata": {},
   "source": [
    "New male_df count = 40554"
   ]
  },
  {
   "cell_type": "code",
   "execution_count": null,
   "id": "9b256d19",
   "metadata": {},
   "outputs": [],
   "source": [
    "female_df = newheartdata[newheartdata['gender'] == 2]\n",
    "female_df"
   ]
  },
  {
   "cell_type": "code",
   "execution_count": null,
   "id": "83ee8203",
   "metadata": {},
   "outputs": [],
   "source": [
    "female_df.drop(female_df[(female_df['ap_hi'] > female_df['ap_hi'].quantile(0.975)) | (female_df['ap_hi'] < female_df['ap_hi'].quantile(0.025))].index,inplace=True)\n",
    "female_df.drop(female_df[(female_df['ap_lo'] > female_df['ap_lo'].quantile(0.975)) | (female_df['ap_lo'] < female_df['ap_lo'].quantile(0.025))].index,inplace=True)\n",
    "female_df.drop(female_df[(female_df['bmi'] > female_df['bmi'].quantile(0.975)) | (female_df['bmi'] < female_df['bmi'].quantile(0.025))].index,inplace=True)"
   ]
  },
  {
   "cell_type": "code",
   "execution_count": null,
   "id": "a6e0591d",
   "metadata": {},
   "outputs": [],
   "source": [
    "female_df.describe()"
   ]
  },
  {
   "cell_type": "markdown",
   "id": "16527aa6",
   "metadata": {},
   "source": [
    "New female_df count = 21500"
   ]
  },
  {
   "cell_type": "markdown",
   "id": "7f9ceff0",
   "metadata": {},
   "source": [
    "## Predict MAP with BMI (Male)"
   ]
  },
  {
   "cell_type": "code",
   "execution_count": null,
   "id": "62797212",
   "metadata": {},
   "outputs": [],
   "source": [
    "maleMAP = pd.DataFrame(male_df['MAP'])  # Response\n",
    "maleBMI = pd.DataFrame(male_df['bmi'])        # Predictor"
   ]
  },
  {
   "cell_type": "code",
   "execution_count": null,
   "id": "f801ff8a",
   "metadata": {},
   "outputs": [],
   "source": [
    "# Import essential models and functions from sklearn\n",
    "from sklearn.linear_model import LinearRegression\n",
    "from sklearn.model_selection import train_test_split\n",
    "from sklearn.metrics import mean_squared_error"
   ]
  },
  {
   "cell_type": "code",
   "execution_count": null,
   "id": "dd576a25",
   "metadata": {
    "scrolled": true
   },
   "outputs": [],
   "source": [
    "# Split the Dataset into Train and Test\n",
    "X_train, X_test, y_train, y_test = train_test_split(maleBMI, maleMAP, test_size = 0.25)  #input is X value which is hp, y-value is total\n",
    "#test_size fix the number you want to test, which is 1/4 of the data set which is the same 200\n",
    "\n",
    "# Linear Regression using Train Data\n",
    "linreg = LinearRegression()         # create the linear regression object\n",
    "linreg.fit(X_train, y_train)        # train the linear regression model\n",
    "\n",
    "# Coefficients of the Linear Regression line\n",
    "print('Intercept of Regression \\t: b = ', linreg.intercept_)\n",
    "print('Coefficients of Regression \\t: a = ', linreg.coef_)\n",
    "print()\n",
    "\n",
    "# Predict Total values corresponding to HP\n",
    "y_train_pred = linreg.predict(X_train)\n",
    "y_test_pred = linreg.predict(X_test)\n",
    "\n",
    "# Check the Goodness of Fit (on Train Data)\n",
    "print(\"Goodness of Fit of Model \\tTrain Dataset\")\n",
    "print(\"Explained Variance (R^2) \\t:\", linreg.score(X_train, y_train))\n",
    "print(\"Mean Squared Error (MSE) \\t:\", mean_squared_error(y_train, y_train_pred))\n",
    "print()\n",
    "\n",
    "# Check the Goodness of Fit (on Test Data)\n",
    "print(\"Goodness of Fit of Model \\tTest Dataset\")\n",
    "print(\"Explained Variance (R^2) \\t:\", linreg.score(X_test, y_test))\n",
    "print(\"Mean Squared Error (MSE) \\t:\", mean_squared_error(y_test, y_test_pred))\n",
    "print()\n",
    "\n",
    "# Plot the Predictions vs the True values\n",
    "f, axes = plt.subplots(1, 2, figsize=(24, 12))\n",
    "axes[0].scatter(y_train, y_train_pred, color = \"blue\")\n",
    "axes[0].plot(y_train, y_train, 'w-', linewidth = 1)\n",
    "axes[0].set_xlabel(\"True values of the Response Variable (Train)\")\n",
    "axes[0].set_ylabel(\"Predicted values of the Response Variable (Train)\")\n",
    "axes[1].scatter(y_test, y_test_pred, color = \"green\")\n",
    "axes[1].plot(y_test, y_test, 'w-', linewidth = 1)\n",
    "axes[1].set_xlabel(\"True values of the Response Variable (Test)\")\n",
    "axes[1].set_ylabel(\"Predicted values of the Response Variable (Test)\")\n",
    "plt.show()"
   ]
  },
  {
   "cell_type": "markdown",
   "id": "50e3745a",
   "metadata": {},
   "source": [
    "## Predict MAP with BMI (Female)"
   ]
  },
  {
   "cell_type": "code",
   "execution_count": null,
   "id": "4bdef7f0",
   "metadata": {},
   "outputs": [],
   "source": [
    "femaleMAP = pd.DataFrame(female_df['MAP'])  # Response\n",
    "femaleBMI = pd.DataFrame(female_df['bmi'])        # Predictor"
   ]
  },
  {
   "cell_type": "code",
   "execution_count": null,
   "id": "7a9f64a1",
   "metadata": {},
   "outputs": [],
   "source": [
    "# Import essential models and functions from sklearn\n",
    "from sklearn.linear_model import LinearRegression\n",
    "from sklearn.model_selection import train_test_split\n",
    "from sklearn.metrics import mean_squared_error"
   ]
  },
  {
   "cell_type": "code",
   "execution_count": null,
   "id": "dba5b7c5",
   "metadata": {},
   "outputs": [],
   "source": [
    "# Split the Dataset into Train and Test\n",
    "X_train, X_test, y_train, y_test = train_test_split(femaleBMI, femaleMAP, test_size = 0.25)  #input is X value which is hp, y-value is total\n",
    "#test_size fix the number you want to test, which is 1/4 of the data set which is the same 200\n",
    "\n",
    "# Linear Regression using Train Data\n",
    "linreg = LinearRegression()         # create the linear regression object\n",
    "linreg.fit(X_train, y_train)        # train the linear regression model\n",
    "\n",
    "# Coefficients of the Linear Regression line\n",
    "print('Intercept of Regression \\t: b = ', linreg.intercept_)\n",
    "print('Coefficients of Regression \\t: a = ', linreg.coef_)\n",
    "print()\n",
    "\n",
    "# Predict Total values corresponding to HP\n",
    "y_train_pred = linreg.predict(X_train)\n",
    "y_test_pred = linreg.predict(X_test)\n",
    "\n",
    "# Check the Goodness of Fit (on Train Data)\n",
    "print(\"Goodness of Fit of Model \\tTrain Dataset\")\n",
    "print(\"Explained Variance (R^2) \\t:\", linreg.score(X_train, y_train))\n",
    "print(\"Mean Squared Error (MSE) \\t:\", mean_squared_error(y_train, y_train_pred))\n",
    "print()\n",
    "\n",
    "# Check the Goodness of Fit (on Test Data)\n",
    "print(\"Goodness of Fit of Model \\tTest Dataset\")\n",
    "print(\"Explained Variance (R^2) \\t:\", linreg.score(X_test, y_test))\n",
    "print(\"Mean Squared Error (MSE) \\t:\", mean_squared_error(y_test, y_test_pred))\n",
    "print()\n",
    "\n",
    "# Plot the Predictions vs the True values\n",
    "f, axes = plt.subplots(1, 2, figsize=(24, 12))\n",
    "axes[0].scatter(y_train, y_train_pred, color = \"blue\")\n",
    "axes[0].plot(y_train, y_train, 'w-', linewidth = 1)\n",
    "axes[0].set_xlabel(\"True values of the Response Variable (Train)\")\n",
    "axes[0].set_ylabel(\"Predicted values of the Response Variable (Train)\")\n",
    "axes[1].scatter(y_test, y_test_pred, color = \"green\")\n",
    "axes[1].plot(y_test, y_test, 'w-', linewidth = 1)\n",
    "axes[1].set_xlabel(\"True values of the Response Variable (Test)\")\n",
    "axes[1].set_ylabel(\"Predicted values of the Response Variable (Test)\")\n",
    "plt.show()"
   ]
  },
  {
   "cell_type": "code",
   "execution_count": null,
   "id": "b1162b05",
   "metadata": {},
   "outputs": [],
   "source": [
    "# Import essential models and functions from sklearn\n",
    "from sklearn.tree import DecisionTreeClassifier\n",
    "from sklearn.model_selection import train_test_split\n",
    "from sklearn.metrics import confusion_matrix\n",
    "\n",
    "# Extract Response and Predictors\n",
    "predictors = [\"cholesterol\", \"smoke\", \"gluc\", \"ap_lo\", \"alco\", \"active\",\"gender\", \"ap_hi\", \"weight\", \"height\"]\n",
    "\n",
    "# Recall the Legendary-Total Dataset\n",
    "y = pd.DataFrame(newheartdata['cardio'])   # Response\n",
    "X = pd.DataFrame(newheartdata[predictors])       # Predictor\n",
    "\n",
    "# Split the Legendary-Total Dataset into Train and Test\n",
    "X_train, X_test, y_train, y_test = train_test_split(X, y, test_size = 0.25) \n",
    "#capital X denotes variables in a matrix, while small letter y denotes a vector\n",
    "\n",
    "# Decision Tree using Train Data\n",
    "dectree = DecisionTreeClassifier(max_depth = 2)  # create the decision tree object\n",
    "dectree.fit(X_train, y_train)                    # train the decision tree model\n",
    "\n",
    "# Predict Legendary values corresponding to Total\n",
    "y_train_pred = dectree.predict(X_train)\n",
    "y_test_pred = dectree.predict(X_test)\n",
    "\n",
    "# Check the Goodness of Fit (on Train Data)\n",
    "print(\"Goodness of Fit of Model \\tTrain Dataset\")\n",
    "print(\"Classification Accuracy \\t:\", dectree.score(X_train, y_train))\n",
    "print()\n",
    "\n",
    "# Check the Goodness of Fit (on Test Data)\n",
    "print(\"Goodness of Fit of Model \\tTest Dataset\")\n",
    "print(\"Classification Accuracy \\t:\", dectree.score(X_test, y_test))\n",
    "print()\n",
    "\n",
    "# Plot the Confusion Matrix for Train and Test\n",
    "f, axes = plt.subplots(1, 2, figsize=(12, 4))\n",
    "sb.heatmap(confusion_matrix(y_train, y_train_pred),\n",
    "           annot = True, fmt=\".0f\", annot_kws={\"size\": 18}, ax = axes[0])\n",
    "sb.heatmap(confusion_matrix(y_test, y_test_pred), \n",
    "           annot = True, fmt=\".0f\", annot_kws={\"size\": 18}, ax = axes[1])"
   ]
  },
  {
   "cell_type": "code",
   "execution_count": null,
   "id": "56cc672b",
   "metadata": {},
   "outputs": [],
   "source": [
    "# Plot the trained Decision Tree\n",
    "from sklearn.tree import plot_tree\n",
    "fig, ax = plt.subplots(figsize=(12, 12))\n",
    "out = plot_tree(dectree, \n",
    "          feature_names = X_train.columns,\n",
    "          class_names = [str(x) for x in dectree.classes_],\n",
    "          filled=True)\n",
    "\n",
    "for o in out:\n",
    "    arrow = o.arrow_patch\n",
    "    if arrow is not None:\n",
    "        arrow.set_edgecolor('black')\n",
    "        arrow.set_linewidth(3)\n",
    "        \n",
    "plt.show()"
   ]
  },
  {
   "cell_type": "code",
   "execution_count": null,
   "id": "698b6d3b",
   "metadata": {},
   "outputs": [],
   "source": [
    "# Import essential models and functions from sklearn\n",
    "from sklearn.tree import DecisionTreeClassifier\n",
    "from sklearn.model_selection import train_test_split\n",
    "from sklearn.metrics import confusion_matrix\n",
    "\n",
    "# Extract Response and Predictors\n",
    "predictors = [\"cholesterol\", \"smoke\", \"gluc\", \"ap_lo\", \"alco\", \"active\",\"gender\", \"ap_hi\", \"weight\", \"height\"]\n",
    "\n",
    "# Recall the Legendary-Total Dataset\n",
    "b = pd.DataFrame(male_df['cardio'])   # Response\n",
    "A = pd.DataFrame(male_df[predictors])       # Predictor\n",
    "\n",
    "# Split the Legendary-Total Dataset into Train and Test\n",
    "A_train, A_test, b_train, b_test = train_test_split(A, b, test_size = 0.25) \n",
    "#capital X denotes variables in a matrix, while small letter y denotes a vector\n",
    "\n",
    "# Decision Tree using Train Data\n",
    "dectree = DecisionTreeClassifier(max_depth = 4)  # create the decision tree object\n",
    "dectree.fit(A_train, b_train)                    # train the decision tree model\n",
    "\n",
    "# Predict Legendary values corresponding to Total\n",
    "b_train_pred = dectree.predict(A_train)\n",
    "b_test_pred = dectree.predict(A_test)\n",
    "\n",
    "# Check the Goodness of Fit (on Train Data)\n",
    "print(\"Goodness of Fit of Model \\tTrain Dataset\")\n",
    "print(\"Classification Accuracy \\t:\", dectree.score(A_train, b_train))\n",
    "print()\n",
    "\n",
    "# Check the Goodness of Fit (on Test Data)\n",
    "print(\"Goodness of Fit of Model \\tTest Dataset\")\n",
    "print(\"Classification Accuracy \\t:\", dectree.score(A_test, b_test))\n",
    "print()\n",
    "\n",
    "# Plot the Confusion Matrix for Train and Test\n",
    "f, axes = plt.subplots(1, 2, figsize=(12, 4))\n",
    "sb.heatmap(confusion_matrix(y_train, y_train_pred),\n",
    "           annot = True, fmt=\".0f\", annot_kws={\"size\": 18}, ax = axes[0])\n",
    "sb.heatmap(confusion_matrix(y_test, y_test_pred), \n",
    "           annot = True, fmt=\".0f\", annot_kws={\"size\": 18}, ax = axes[1])"
   ]
  },
  {
   "cell_type": "code",
   "execution_count": null,
   "id": "eb4c4656",
   "metadata": {},
   "outputs": [],
   "source": [
    "# Plot the trained Decision Tree\n",
    "from sklearn.tree import plot_tree\n",
    "fig, ax = plt.subplots(figsize=(50, 50))\n",
    "out = plot_tree(dectree, \n",
    "          feature_names = A_train.columns,\n",
    "          class_names = [str(a) for a in dectree.classes_],\n",
    "          filled=True)\n",
    "\n",
    "for o in out:\n",
    "    arrow = o.arrow_patch\n",
    "    if arrow is not None:\n",
    "        arrow.set_edgecolor('black')\n",
    "        arrow.set_linewidth(3)\n",
    "        \n",
    "plt.show()"
   ]
  },
  {
   "cell_type": "markdown",
   "id": "84797f05",
   "metadata": {},
   "source": [
    "## Male plots"
   ]
  },
  {
   "cell_type": "code",
   "execution_count": null,
   "id": "973f4918",
   "metadata": {},
   "outputs": [],
   "source": [
    "maleDF = pd.DataFrame(male_df) \n",
    "maleDF"
   ]
  },
  {
   "cell_type": "code",
   "execution_count": null,
   "id": "4527bc7f",
   "metadata": {},
   "outputs": [],
   "source": [
    "maleSMOKE = pd.DataFrame(maleDF['smoke'])\n",
    "maleSMOKE"
   ]
  },
  {
   "cell_type": "code",
   "execution_count": null,
   "id": "1ce3d7f9",
   "metadata": {},
   "outputs": [],
   "source": [
    "maleCARDIO = pd.DataFrame(maleDF['cardio'])\n",
    "maleCARDIO"
   ]
  },
  {
   "cell_type": "code",
   "execution_count": null,
   "id": "7a5f7362",
   "metadata": {},
   "outputs": [],
   "source": [
    "maleBMI"
   ]
  },
  {
   "cell_type": "code",
   "execution_count": null,
   "id": "1e6743c8",
   "metadata": {},
   "outputs": [],
   "source": [
    "maleMAP"
   ]
  },
  {
   "cell_type": "code",
   "execution_count": null,
   "id": "1c311333",
   "metadata": {},
   "outputs": [],
   "source": [
    "# Train Set : 30554 samples\n",
    "malecardio_train = pd.DataFrame(maleCARDIO[:30544])\n",
    "malesmoke_train = pd.DataFrame(maleSMOKE[:30544])\n",
    "malebmi_train = pd.DataFrame(maleBMI[:30544])\n",
    "malemap_train = pd.DataFrame(maleMAP[:30544])\n",
    "\n",
    "# Test Set : 10000 samples\n",
    "malecardio_test = pd.DataFrame(maleCARDIO[-10000:])\n",
    "malesmoke_test = pd.DataFrame(maleSMOKE[-10000:])\n",
    "malebmi_test = pd.DataFrame(maleBMI[-10000:])\n",
    "malemap_test = pd.DataFrame(maleMAP[-10000:])\n",
    "\n",
    "# Check the sample sizes\n",
    "print(\"Train Set :\", malecardio_train.shape, malesmoke_train.shape, malebmi_train.shape, malemap_train.shape)\n",
    "print(\"Test Set  :\", malecardio_test.shape, malesmoke_test.shape,  malebmi_test.shape, malemap_test.shape)"
   ]
  },
  {
   "cell_type": "code",
   "execution_count": null,
   "id": "7808282b",
   "metadata": {},
   "outputs": [],
   "source": [
    "type(malecardio_train[\"cardio\"])"
   ]
  },
  {
   "cell_type": "markdown",
   "id": "d8e9efba",
   "metadata": {},
   "source": [
    "#### Basic Exploration\n",
    "\n",
    "Perform basic statistical exploration and visualization on the Train Set."
   ]
  },
  {
   "cell_type": "code",
   "execution_count": null,
   "id": "a2feae40",
   "metadata": {},
   "outputs": [],
   "source": [
    "# Summary Statistics for Legendary Train\n",
    "malecardio_train[\"cardio\"].value_counts()"
   ]
  },
  {
   "cell_type": "code",
   "execution_count": null,
   "id": "d332d72c",
   "metadata": {},
   "outputs": [],
   "source": [
    "# Summary Statistics for Total Train\n",
    "malecardio_train.describe()"
   ]
  },
  {
   "cell_type": "code",
   "execution_count": null,
   "id": "5495002f",
   "metadata": {},
   "outputs": [],
   "source": [
    "# Count Plot for Legendary Train\n",
    "sb.catplot(y = \"cardio\", data = malecardio_train, kind = \"count\")"
   ]
  },
  {
   "cell_type": "code",
   "execution_count": null,
   "id": "48320401",
   "metadata": {},
   "outputs": [],
   "source": [
    "# Plot the distributions of Total Train\n",
    "f, axes = plt.subplots(1, 3, figsize=(24, 6))\n",
    "sb.boxplot(data = malecardio_train, orient = \"h\", ax = axes[0])\n",
    "sb.histplot(data = malecardio_train, ax = axes[1])\n",
    "sb.violinplot(data = malecardio_train, orient = \"h\", ax = axes[2])"
   ]
  },
  {
   "cell_type": "code",
   "execution_count": null,
   "id": "7f226cbe",
   "metadata": {},
   "outputs": [],
   "source": [
    "# Create a joint dataframe by concatenating Total and Legendary\n",
    "trainDF = pd.concat([malecardio_train, malebmi_train], axis = 1).reindex(malecardio_train.index)\n",
    "\n",
    "# Joint Boxplot of Total Train against Legendary Train\n",
    "f = plt.figure(figsize=(18, 6))\n",
    "sb.boxplot(x = \"bmi\", y = \"cardio\", data = trainDF, orient = \"h\")"
   ]
  },
  {
   "cell_type": "code",
   "execution_count": null,
   "id": "0f85188f",
   "metadata": {},
   "outputs": [],
   "source": [
    "# Create a joint dataframe by concatenating Total and Legendary\n",
    "trainDF2 = pd.concat([malecardio_train, malemap_train], axis = 1).reindex(malecardio_train.index)\n",
    "\n",
    "# Joint Boxplot of Total Train against Legendary Train\n",
    "f = plt.figure(figsize=(18, 6))\n",
    "sb.boxplot(x = \"MAP\", y = \"cardio\", data = trainDF2, orient = \"h\")"
   ]
  },
  {
   "cell_type": "markdown",
   "id": "6d0c31e2",
   "metadata": {},
   "source": [
    "## Female Plots"
   ]
  },
  {
   "cell_type": "code",
   "execution_count": null,
   "id": "664b942f",
   "metadata": {},
   "outputs": [],
   "source": [
    "femaleDF = pd.DataFrame(female_df) \n",
    "femaleDF"
   ]
  },
  {
   "cell_type": "code",
   "execution_count": null,
   "id": "ecd1aec6",
   "metadata": {},
   "outputs": [],
   "source": [
    "femaleSMOKE = pd.DataFrame(femaleDF['smoke'])\n",
    "femaleSMOKE"
   ]
  },
  {
   "cell_type": "code",
   "execution_count": null,
   "id": "fec0c208",
   "metadata": {},
   "outputs": [],
   "source": [
    "femaleCARDIO = pd.DataFrame(femaleDF['cardio'])\n",
    "femaleCARDIO"
   ]
  },
  {
   "cell_type": "code",
   "execution_count": null,
   "id": "6d493367",
   "metadata": {},
   "outputs": [],
   "source": [
    "femaleBMI"
   ]
  },
  {
   "cell_type": "code",
   "execution_count": null,
   "id": "9b6a4bf5",
   "metadata": {},
   "outputs": [],
   "source": [
    "femaleMAP"
   ]
  },
  {
   "cell_type": "code",
   "execution_count": null,
   "id": "bc52cb08",
   "metadata": {},
   "outputs": [],
   "source": [
    "# Train Set : 16125 samples\n",
    "femalecardio_train = pd.DataFrame(femaleCARDIO[:16125])\n",
    "femalesmoke_train = pd.DataFrame(femaleSMOKE[:16125])\n",
    "femalebmi_train = pd.DataFrame(femaleBMI[:16125])\n",
    "femalemap_train = pd.DataFrame(femaleMAP[:16125])\n",
    "\n",
    "# Test Set : 5375 samples\n",
    "femalecardio_test = pd.DataFrame(femaleCARDIO[-5375:])\n",
    "femalesmoke_test = pd.DataFrame(femaleSMOKE[-5375:])\n",
    "femalebmi_test = pd.DataFrame(femaleBMI[-5375:])\n",
    "femalemap_test = pd.DataFrame(femaleMAP[-5375:])\n",
    "\n",
    "# Check the sample sizes\n",
    "print(\"Train Set :\", femalecardio_train.shape, femalesmoke_train.shape, femalebmi_train.shape, femalemap_train.shape)\n",
    "print(\"Test Set  :\", femalecardio_test.shape, femalesmoke_test.shape,  femalebmi_test.shape, femalemap_test.shape)"
   ]
  },
  {
   "cell_type": "code",
   "execution_count": null,
   "id": "2fd63c88",
   "metadata": {},
   "outputs": [],
   "source": [
    "type(femalecardio_train[\"cardio\"])"
   ]
  },
  {
   "cell_type": "markdown",
   "id": "f9bf81a7",
   "metadata": {},
   "source": [
    "#### Basic Exploration\n",
    "\n",
    "Perform basic statistical exploration and visualization on the Train Set."
   ]
  },
  {
   "cell_type": "code",
   "execution_count": null,
   "id": "5ddce811",
   "metadata": {},
   "outputs": [],
   "source": [
    "# Summary Statistics for Legendary Train\n",
    "femalecardio_train[\"cardio\"].value_counts()"
   ]
  },
  {
   "cell_type": "code",
   "execution_count": null,
   "id": "cd9503e2",
   "metadata": {},
   "outputs": [],
   "source": [
    "# Summary Statistics for Total Train\n",
    "femalecardio_train.describe()"
   ]
  },
  {
   "cell_type": "code",
   "execution_count": null,
   "id": "570a02c1",
   "metadata": {},
   "outputs": [],
   "source": [
    "# Count Plot for Legendary Train\n",
    "sb.catplot(y = \"cardio\", data = femalecardio_train, kind = \"count\")"
   ]
  },
  {
   "cell_type": "code",
   "execution_count": null,
   "id": "5df69b47",
   "metadata": {},
   "outputs": [],
   "source": [
    "# Plot the distributions of Total Train\n",
    "f, axes = plt.subplots(1, 3, figsize=(24, 6))\n",
    "sb.boxplot(data = femalecardio_train, orient = \"h\", ax = axes[0])\n",
    "sb.histplot(data = femalecardio_train, ax = axes[1])\n",
    "sb.violinplot(data = femalecardio_train, orient = \"h\", ax = axes[2])"
   ]
  },
  {
   "cell_type": "code",
   "execution_count": null,
   "id": "eb6fa473",
   "metadata": {},
   "outputs": [],
   "source": [
    "# Create a joint dataframe by concatenating Total and Legendary\n",
    "trainDF3 = pd.concat([femalecardio_train, femalebmi_train], axis = 1).reindex(femalecardio_train.index)\n",
    "\n",
    "# Joint Boxplot of Total Train against Legendary Train\n",
    "f = plt.figure(figsize=(18, 6))\n",
    "sb.boxplot(x = \"bmi\", y = \"cardio\", data = trainDF3, orient = \"h\")"
   ]
  },
  {
   "cell_type": "code",
   "execution_count": null,
   "id": "742092cc",
   "metadata": {},
   "outputs": [],
   "source": [
    "# Create a joint dataframe by concatenating Total and Legendary\n",
    "trainDF4 = pd.concat([femalecardio_train, femalemap_train], axis = 1).reindex(femalecardio_train.index)\n",
    "\n",
    "# Joint Boxplot of Total Train against Legendary Train\n",
    "f = plt.figure(figsize=(18, 6))\n",
    "sb.boxplot(x = \"MAP\", y = \"cardio\", data = trainDF4, orient = \"h\")"
   ]
  },
  {
   "cell_type": "markdown",
   "id": "cf30a8ee",
   "metadata": {},
   "source": [
    "## Exploratory Analysis of male and female comparisons with various categorical data"
   ]
  },
  {
   "cell_type": "code",
   "execution_count": null,
   "id": "7bf93ad9",
   "metadata": {},
   "outputs": [],
   "source": [
    "# breakdown of male cholesterol who have cardiovascular disease\n",
    "sb.catplot(y = 'cardio', data = maleDF, col = 'cholesterol', kind = 'count', col_wrap = 3, height = 6)"
   ]
  },
  {
   "cell_type": "code",
   "execution_count": null,
   "id": "d3f855e1",
   "metadata": {},
   "outputs": [],
   "source": [
    "# breakdown of female cholesterol who have cardiovascular disease\n",
    "sb.catplot(y = 'cardio', data = femaleDF, col = 'cholesterol', kind = 'count', col_wrap = 3, height = 6)"
   ]
  },
  {
   "cell_type": "code",
   "execution_count": null,
   "id": "5597fcaf",
   "metadata": {},
   "outputs": [],
   "source": [
    "# breakdown of males who have cardiovascular disease from smoking\n",
    "sb.catplot(y = 'cardio', data = maleDF, col = 'smoke', kind = 'count', col_wrap = 3, height = 5)"
   ]
  },
  {
   "cell_type": "code",
   "execution_count": null,
   "id": "8f4fff42",
   "metadata": {},
   "outputs": [],
   "source": [
    "# Male Smokers in the Dataset\n",
    "print(\"Number of male non-smokers(0) vs smokers(1) surveyed :\")\n",
    "s\n",
    "print(maleDF[\"smoke\"].value_counts())\n",
    "sb.catplot(y = \"smoke\", data = maleDF, kind = \"count\")"
   ]
  },
  {
   "cell_type": "markdown",
   "id": "7a90df2d",
   "metadata": {},
   "source": [
    "### It may be seen initially that the correlation of smokers and cardiovascular disease for males is not significant. However, this could be due to the fact that only 686 males out of 40554 are smokers, which can be deemed insufficient sample data or an unequal comparison. \n",
    "### What will be done: splitting the dataset into smokers and non-smokers and regrouping them with whether cardiovascular disease is present in the person"
   ]
  },
  {
   "cell_type": "code",
   "execution_count": null,
   "id": "00c128fd",
   "metadata": {},
   "outputs": [],
   "source": [
    "# Create a joint dataframe by concatenating the two variables\n",
    "jointDF_male = pd.concat([maleSMOKE, maleCARDIO], axis = 1).reindex(maleSMOKE.index)\n",
    "jointDF_male.describe()"
   ]
  },
  {
   "cell_type": "code",
   "execution_count": null,
   "id": "2f294132",
   "metadata": {},
   "outputs": [],
   "source": [
    "#male; not smoker; no cardio disease\n",
    "\n",
    "male_nonsmoker_nocardio = jointDF_male[(jointDF_male['smoke'] == 0) & (jointDF_male['cardio'] == 0 )]\n",
    "male_nonsmoker_nocardio.describe()"
   ]
  },
  {
   "cell_type": "code",
   "execution_count": null,
   "id": "05629f1e",
   "metadata": {},
   "outputs": [],
   "source": [
    "#male; not smoker; cardio disease present\n",
    "\n",
    "male_nonsmoker_cardio = jointDF_male[(jointDF_male['smoke'] == 0) & (jointDF_male['cardio'] == 1 )]\n",
    "male_nonsmoker_cardio.describe()"
   ]
  },
  {
   "cell_type": "code",
   "execution_count": null,
   "id": "d6a54538",
   "metadata": {},
   "outputs": [],
   "source": [
    "#male; smoker; no cardio disease\n",
    "\n",
    "male_smoker_nocardio = jointDF_male[(jointDF_male['smoke'] == 1) & (jointDF_male['cardio'] == 0 )]\n",
    "male_smoker_nocardio.describe()"
   ]
  },
  {
   "cell_type": "code",
   "execution_count": null,
   "id": "9da9ea31",
   "metadata": {},
   "outputs": [],
   "source": [
    "#male; smoker; cardio disease present\n",
    "\n",
    "male_smoker_cardio = jointDF_male[(jointDF_male['smoke'] == 1) & (jointDF_male['cardio'] == 1 )]\n",
    "male_smoker_cardio.describe()"
   ]
  },
  {
   "cell_type": "code",
   "execution_count": null,
   "id": "4e2bb316",
   "metadata": {},
   "outputs": [],
   "source": []
  }
 ],
 "metadata": {
  "kernelspec": {
   "display_name": "Python 3 (ipykernel)",
   "language": "python",
   "name": "python3"
  },
  "language_info": {
   "codemirror_mode": {
    "name": "ipython",
    "version": 3
   },
   "file_extension": ".py",
   "mimetype": "text/x-python",
   "name": "python",
   "nbconvert_exporter": "python",
   "pygments_lexer": "ipython3",
   "version": "3.9.7"
  }
 },
 "nbformat": 4,
 "nbformat_minor": 5
}
