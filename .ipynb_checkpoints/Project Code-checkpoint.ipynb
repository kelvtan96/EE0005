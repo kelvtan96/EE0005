{
 "cells": [
  {
   "cell_type": "markdown",
   "id": "3f136e0f",
   "metadata": {},
   "source": [
    "# HI GUYS!"
   ]
  },
  {
   "cell_type": "code",
   "execution_count": null,
   "id": "f0bb963a",
   "metadata": {},
   "outputs": [],
   "source": [
    "Hello 2\n"
   ]
  },
  {
   "cell_type": "code",
   "execution_count": null,
   "id": "46e0f2ff",
   "metadata": {},
   "outputs": [],
   "source": [
    "jdsajdas"
   ]
  },
  {
   "cell_type": "code",
   "execution_count": 1,
   "id": "cb71fed3",
   "metadata": {},
   "outputs": [
    {
     "name": "stdout",
     "output_type": "stream",
     "text": [
      "hello\n"
     ]
    }
   ],
   "source": [
    "print('hello')"
   ]
  },
  {
   "cell_type": "markdown",
   "id": "f2cae260",
   "metadata": {},
   "source": [
    "theo"
   ]
  },
  {
   "cell_type": "code",
   "execution_count": null,
   "id": "cc8c9117",
   "metadata": {},
   "outputs": [],
   "source": []
  }
 ],
 "metadata": {
  "kernelspec": {
   "display_name": "Python 3 (ipykernel)",
   "language": "python",
   "name": "python3"
  },
  "language_info": {
   "codemirror_mode": {
    "name": "ipython",
    "version": 3
   },
   "file_extension": ".py",
   "mimetype": "text/x-python",
   "name": "python",
   "nbconvert_exporter": "python",
   "pygments_lexer": "ipython3",
   "version": "3.9.7"
  }
 },
 "nbformat": 4,
 "nbformat_minor": 5
}
